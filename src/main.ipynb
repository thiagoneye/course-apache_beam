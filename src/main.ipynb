{
 "cells": [
  {
   "cell_type": "code",
   "execution_count": 1,
   "id": "4be66b7d",
   "metadata": {},
   "outputs": [
    {
     "name": "stderr",
     "output_type": "stream",
     "text": [
      "Failed to import GCSFileSystem; loading of this filesystem will be skipped. Error details: cannot import name 'storage' from 'google.cloud' (unknown location)\n"
     ]
    }
   ],
   "source": [
    "# Imports\n",
    "\n",
    "import apache_beam as beam"
   ]
  },
  {
   "cell_type": "code",
   "execution_count": null,
   "id": "f5988509",
   "metadata": {},
   "outputs": [
    {
     "data": {
      "application/javascript": "\n        if (typeof window.interactive_beam_jquery == 'undefined') {\n          var jqueryScript = document.createElement('script');\n          jqueryScript.src = 'https://code.jquery.com/jquery-3.4.1.slim.min.js';\n          jqueryScript.type = 'text/javascript';\n          jqueryScript.onload = function() {\n            var datatableScript = document.createElement('script');\n            datatableScript.src = 'https://cdn.datatables.net/1.10.20/js/jquery.dataTables.min.js';\n            datatableScript.type = 'text/javascript';\n            datatableScript.onload = function() {\n              window.interactive_beam_jquery = jQuery.noConflict(true);\n              window.interactive_beam_jquery(document).ready(function($){\n                \n              });\n            }\n            document.head.appendChild(datatableScript);\n          };\n          document.head.appendChild(jqueryScript);\n        } else {\n          window.interactive_beam_jquery(document).ready(function($){\n            \n          });\n        }"
     },
     "metadata": {},
     "output_type": "display_data"
    },
    {
     "name": "stdout",
     "output_type": "stream",
     "text": [
      "('LAX', {'Count': [4], 'Sum': [92]})\n",
      "('HNL', {'Count': [1], 'Sum': [15]})\n",
      "('DFW', {'Count': [1], 'Sum': [95]})\n",
      "('OGG', {'Count': [1], 'Sum': [138]})\n",
      "('JFK', {'Count': [4], 'Sum': [220]})\n"
     ]
    },
    {
     "data": {
      "text/plain": [
       "<apache_beam.runners.portability.fn_api_runner.fn_runner.RunnerResult at 0x7d4d3f6b4f50>"
      ]
     },
     "execution_count": 2,
     "metadata": {},
     "output_type": "execute_result"
    }
   ],
   "source": [
    "# Flights\n",
    "\n",
    "# Auxiliar Class\n",
    "class filter_values(beam.DoFn):\n",
    "    def process(self, record):\n",
    "        if int(record[8]) > 0:\n",
    "            return [record]\n",
    "\n",
    "# Pipeline Define\n",
    "pl1 = beam.Pipeline()\n",
    "\n",
    "pcolection_sum_delays = (\n",
    "    pl1\n",
    "    | \"Data Reading (1)\" >> beam.io.ReadFromText(\"../data/voos_sample.csv\", skip_header_lines = 1)\n",
    "    | \"Split by Common (1)\" >> beam.Map(lambda record: record.split(','))\n",
    "#    | \"Filter by Delay (1)\" >> beam.Filter(lambda record: int(record[8])>0)\n",
    "    | \"Filter by Delay (1)\" >> beam.ParDo(filter_values())\n",
    "    | \"Create Pair (1)\" >> beam.Map(lambda record: (record[4], int(record[8])))\n",
    "    | \"Sum by Key\" >> beam.CombinePerKey(sum)\n",
    "#    | \"Print Result (1)\" >> beam.Map(print)\n",
    "#    | \"Save Result\" >> beam.io.WriteToText(\"../data/voos.txt\")\n",
    ")\n",
    "\n",
    "pcolection_count_delays = (\n",
    "    pl1\n",
    "    | \"Data Reading (2)\" >> beam.io.ReadFromText(\"../data/voos_sample.csv\", skip_header_lines = 1)\n",
    "    | \"Split by Common (2)\" >> beam.Map(lambda record: record.split(','))\n",
    "#    | \"Filter by Delay (2)\" >> beam.Filter(lambda record: int(record[8])>0)\n",
    "    | \"Filter by Delay (2)\" >> beam.ParDo(filter_values())\n",
    "    | \"Create Pair (2)\" >> beam.Map(lambda record: (record[4], int(record[8])))\n",
    "    | \"Count by Key\" >> beam.combiners.Count.PerKey()\n",
    "#    | \"Print Result (2)\" >> beam.Map(print)\n",
    "#    | \"Save Result\" >> beam.io.WriteToText(\"../data/voos.txt\")\n",
    ")\n",
    "\n",
    "delay_table = (\n",
    "    {\"Count\": pcolection_count_delays, \"Sum\": pcolection_sum_delays}\n",
    "    | \"Group By\" >> beam.CoGroupByKey()\n",
    "    | \"Print Result\" >> beam.Map(print)\n",
    ")\n",
    "\n",
    "# Executation\n",
    "pl1.run()"
   ]
  },
  {
   "cell_type": "code",
   "execution_count": 3,
   "id": "8fa6731b",
   "metadata": {},
   "outputs": [
    {
     "name": "stdout",
     "output_type": "stream",
     "text": [
      "quatro\n",
      "quatro\n",
      "um\n",
      "quatro\n",
      "quatro\n",
      "um\n"
     ]
    },
    {
     "data": {
      "text/plain": [
       "<apache_beam.runners.portability.fn_api_runner.fn_runner.RunnerResult at 0x7d4d3f691490>"
      ]
     },
     "execution_count": 3,
     "metadata": {},
     "output_type": "execute_result"
    }
   ],
   "source": [
    "# Poem\n",
    "\n",
    "words = [\"quatro\", \"um\"]\n",
    "\n",
    "# Auxiliar Functions\n",
    "def find_word(record):\n",
    "    return record in words\n",
    "\n",
    "# Pipeline Define\n",
    "pl2 = beam.Pipeline()\n",
    "\n",
    "pcolection = (\n",
    "    pl2\n",
    "    | \"Data Reading\" >> beam.io.ReadFromText(\"../data/poema.txt\")\n",
    "    | \"Split by Common\" >> beam.FlatMap(lambda record: record.split(\" \"))\n",
    "    | \"Filter by Function\" >> beam.Filter(find_word)\n",
    "    | \"Print Result\" >> beam.Map(print)\n",
    ")\n",
    "\n",
    "pl2.run()\n"
   ]
  },
  {
   "cell_type": "code",
   "execution_count": 4,
   "id": "9424f752",
   "metadata": {},
   "outputs": [
    {
     "name": "stdout",
     "output_type": "stream",
     "text": [
      "Vic\n",
      "Marta\n",
      "Tom\n",
      "Tulio\n",
      "Mary\n",
      "Joca\n",
      "Adão\n",
      "Jesus\n",
      "Mike\n"
     ]
    },
    {
     "data": {
      "text/plain": [
       "<apache_beam.runners.portability.fn_api_runner.fn_runner.RunnerResult at 0x7d4d3e647a70>"
      ]
     },
     "execution_count": 4,
     "metadata": {},
     "output_type": "execute_result"
    }
   ],
   "source": [
    "# Ethnicity\n",
    "\n",
    "# Pipeline Define\n",
    "pl3 = beam.Pipeline()\n",
    "\n",
    "blacks = (\"Adão\", \"Jesus\", \"Mike\")\n",
    "whites = (\"Tulio\", \"Mary\", \"Joca\")\n",
    "indians = (\"Vic\", \"Marta\", \"Tom\")\n",
    "\n",
    "black_pc = pl3 | \"Create a pcollection to blacks\" >> beam.Create(blacks)\n",
    "whites_pc = pl3 | \"Create a pcollection to whites\" >> beam.Create(whites)\n",
    "indians_pc = pl3 | \"Create a pcollection to indians\" >> beam.Create(indians)\n",
    "\n",
    "people = (\n",
    "    (black_pc, whites_pc, indians_pc)\n",
    "    | beam.Flatten()\n",
    "    | beam.Map(print)\n",
    ")\n",
    "\n",
    "pl3.run()"
   ]
  }
 ],
 "metadata": {
  "kernelspec": {
   "display_name": "base",
   "language": "python",
   "name": "python3"
  },
  "language_info": {
   "codemirror_mode": {
    "name": "ipython",
    "version": 3
   },
   "file_extension": ".py",
   "mimetype": "text/x-python",
   "name": "python",
   "nbconvert_exporter": "python",
   "pygments_lexer": "ipython3",
   "version": "3.12.7"
  }
 },
 "nbformat": 4,
 "nbformat_minor": 5
}
